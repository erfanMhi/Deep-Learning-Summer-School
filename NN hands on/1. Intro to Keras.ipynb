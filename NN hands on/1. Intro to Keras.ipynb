{
 "cells": [
  {
   "cell_type": "markdown",
   "metadata": {},
   "source": [
    "## 0. What We Are Going To Do:\n",
    "We are going to classify images of handwritten digits (MNIST dataset) using a fully-connected neural network.\n",
    "\n",
    "![MLNN](img/mlp.png)\n",
    "\n",
    "After successful training, our model will be able to guess the digit in the image.\n",
    "\n",
    "IMPORTANT NOTE: Some part of the code is already completed. Do not delete them!"
   ]
  },
  {
   "cell_type": "markdown",
   "metadata": {},
   "source": [
    "** In this section we import all the packages you need(You may edit & rerun this part later)**\n",
    "\n",
    "Note: You can also import classes/functions within a package directly (e.g. from keras.layers import Dense).\n"
   ]
  },
  {
   "cell_type": "code",
   "execution_count": 1,
   "metadata": {},
   "outputs": [
    {
     "name": "stderr",
     "output_type": "stream",
     "text": [
      "C:\\Program Files (x86)\\Microsoft Visual Studio\\Shared\\Anaconda3_64\\envs\\deeplearning\\lib\\site-packages\\h5py\\__init__.py:34: FutureWarning: Conversion of the second argument of issubdtype from `float` to `np.floating` is deprecated. In future, it will be treated as `np.float64 == np.dtype(float).type`.\n",
      "  from ._conv import register_converters as _register_converters\n",
      "Using TensorFlow backend.\n"
     ]
    }
   ],
   "source": [
    "import keras\n",
    "import matplotlib.pyplot as plt #This package is for plotting\n",
    "%matplotlib inline  \n",
    "import numpy as np\n",
    "from keras.datasets import mnist\n",
    "from keras.models import Sequential\n",
    "from keras.layers import Dense, Input\n",
    "from keras.optimizers import SGD\n",
    "from keras.initializers import RandomNormal\n",
    "from keras.models import load_model"
   ]
  },
  {
   "cell_type": "markdown",
   "metadata": {},
   "source": [
    "## 1. Prepare Data:\n",
    "\n",
    "The dataset is loaded in this section. \n",
    "\n",
    "**1-0. Check the dimensions of data and its minimum & maximum.**\n",
    "\n",
    "Note: You should paste the dataset file in '~/.keras/datasets/' directory or it will start downloading it."
   ]
  },
  {
   "cell_type": "code",
   "execution_count": 2,
   "metadata": {},
   "outputs": [],
   "source": [
    "(x_train, y_train), (x_test, y_test) = mnist.load_data()"
   ]
  },
  {
   "cell_type": "code",
   "execution_count": 3,
   "metadata": {},
   "outputs": [
    {
     "name": "stdout",
     "output_type": "stream",
     "text": [
      "train data dim: (60000, 28, 28)\n",
      "test data dim: (10000, 28, 28)\n",
      "test label dim: (10000,)\n",
      "train size : 60000\n",
      " test size: 10000\n",
      "minimum of x_train: 0\n",
      "maximum of x_train : 255\n",
      "minimum of x_test: 0\n",
      "maximum of x_test : 255\n"
     ]
    }
   ],
   "source": [
    "print('train data dim:', x_train.shape)\n",
    "# Print x_test and y_test dimensions\n",
    "print('test data dim:', x_test.shape)\n",
    "print('test label dim:', y_test.shape)\n",
    "# Question: How many train/test samples does it have?\n",
    "print('train size : {}\\n test size: {}'.format(x_train.shape[0],x_test.shape[0]))\n",
    "# Print the minimum and maximum of x_train and x_test(use numpy min and max functions)\n",
    "print('minimum of x_train: {}\\nmaximum of x_train : {}'.format(np.min(x_train),np.max(x_train)))\n",
    "print('minimum of x_test: {}\\nmaximum of x_test : {}'.format(np.min(x_test),np.max(x_test)))"
   ]
  },
  {
   "cell_type": "markdown",
   "metadata": {},
   "source": [
    "** 1-1. Check a random sample of train data and its label. **"
   ]
  },
  {
   "cell_type": "code",
   "execution_count": 4,
   "metadata": {},
   "outputs": [
    {
     "data": {
      "image/png": "[encoded data removed]",
      "text/plain": [
       "<matplotlib.figure.Figure at 0x1cd8f460320>"
      ]
     },
     "metadata": {},
     "output_type": "display_data"
    }
   ],
   "source": [
    "# generate a random number. (use numpy random.randint)\n",
    "rand_num = np.random.randint(x_train.shape[0])\n",
    "# plot using plt.imshow() & plt.show()\n",
    "plt.imshow(x_train[rand_num],cmap='gray')\n",
    "plt.show()\n",
    "# print its label\n"
   ]
  },
  {
   "cell_type": "markdown",
   "metadata": {},
   "source": [
    "**1-2. Our Network accept 1D data. So we should flatten our 2D image, then print the dimension of the result arrays.**\n",
    "\n",
    "Use numpy reshape function.\n"
   ]
  },
  {
   "cell_type": "code",
   "execution_count": 5,
   "metadata": {},
   "outputs": [],
   "source": [
    "# Reshape x_train and x_test using numpy reshape function\n",
    "input_shape = x_train.shape[1]*x_train.shape[2]\n",
    "p_x_train = x_train.reshape((-1,input_shape))\n",
    "p_x_test = x_test.reshape((-1,input_shape))"
   ]
  },
  {
   "cell_type": "code",
   "execution_count": 6,
   "metadata": {},
   "outputs": [
    {
     "data": {
      "text/plain": [
       "784"
      ]
     },
     "execution_count": 6,
     "metadata": {},
     "output_type": "execute_result"
    }
   ],
   "source": [
    "input_shape"
   ]
  },
  {
   "cell_type": "markdown",
   "metadata": {},
   "source": [
    "** 1-3. Normalize data by rescaling them to (0,1) **"
   ]
  },
  {
   "cell_type": "code",
   "execution_count": 7,
   "metadata": {},
   "outputs": [],
   "source": [
    "# normalize x_train and x_test by dividing them by max of x_train:\n",
    "p_x_train = p_x_train/np.max(p_x_train)\n",
    "p_x_test = p_x_test/np.max(p_x_train)"
   ]
  },
  {
   "cell_type": "markdown",
   "metadata": {},
   "source": [
    "** 1-4. Convert label arrays to 1-hot representation **"
   ]
  },
  {
   "cell_type": "code",
   "execution_count": 8,
   "metadata": {},
   "outputs": [],
   "source": [
    "# Use keras.utils.to_categorical\n",
    "p_y_train = keras.utils.to_categorical(y_train,10)\n",
    "p_y_test = keras.utils.to_categorical(y_test,10)\n",
    "output_shape = p_y_test.shape[1]"
   ]
  },
  {
   "cell_type": "code",
   "execution_count": 9,
   "metadata": {},
   "outputs": [
    {
     "name": "stdout",
     "output_type": "stream",
     "text": [
      "1\n"
     ]
    },
    {
     "data": {
      "image/png": "[encoded data removed]",
      "text/plain": [
       "<matplotlib.figure.Figure at 0x1cd948e9da0>"
      ]
     },
     "metadata": {},
     "output_type": "display_data"
    }
   ],
   "source": [
    "rand_num = np.random.randint(p_x_train.shape[0])\n",
    "plt.imshow(p_x_train.reshape((-1,28,28))[rand_num])\n",
    "print(np.argmax(p_y_train[rand_num]))"
   ]
  },
  {
   "cell_type": "markdown",
   "metadata": {},
   "source": [
    "## 2. Define Model"
   ]
  },
  {
   "cell_type": "markdown",
   "metadata": {},
   "source": [
    "** 2-0. Add the following layers to the network:**\n",
    "* Hidden Layer 1: Fully Conncted + Relu Activition (e.g. 512 Nuerons)\n",
    "* Hidden Layer 2: Fully Connected + Relu Activition (e.g. 512 Neurons)\n",
    "* Outout Layer: Fully Connected + Softmax Activition"
   ]
  },
  {
   "cell_type": "code",
   "execution_count": 10,
   "metadata": {},
   "outputs": [],
   "source": [
    "model = Sequential()\n",
    "# Add the layers to model here.\n",
    "# Hidden Layer1: 512 Neurons+ relu activation + Normal Initialization mean=0, std = 0.1(RandomNormal). You Should define input shape for layer1\n",
    "model.add(Dense(512,activation='relu',input_shape=(input_shape,),kernel_initializer=RandomNormal(mean=0.0, stddev=0.1)))\n",
    "# Hidden Layer2: 512 Neurons+ relu activation + Normal Initialization mean=0, std = 0.1(RandomNormal).\n",
    "model.add(Dense(512,activation='relu',kernel_initializer=RandomNormal(mean=0.0, stddev=0.1)))\n",
    "# Output Layer1: Question: How many neurons?what kind of activation function? + Normal Initialization mean=0, std = 0.1(RandomNormal).\n",
    "model.add(Dense(output_shape, activation='softmax',kernel_initializer=RandomNormal(mean=0.0, stddev=0.1)))"
   ]
  },
  {
   "cell_type": "markdown",
   "metadata": {},
   "source": [
    "** 2-1. Determine loss function, optimizer and metrics for the model **"
   ]
  },
  {
   "cell_type": "code",
   "execution_count": 11,
   "metadata": {},
   "outputs": [],
   "source": [
    "# define the optimizer and its learning rate\n",
    "sgd = SGD(lr=0.01)\n",
    "# Use categorical_crossentropy as loss function, and accuracy as one of the metrics (you may add other metrics too). \n",
    "# use model.compile to add the above parameters to the model\n",
    "model.compile(optimizer=sgd,loss='categorical_crossentropy',metrics=['accuracy'])"
   ]
  },
  {
   "cell_type": "markdown",
   "metadata": {},
   "source": [
    "** 2-2. Print the review of the model **"
   ]
  },
  {
   "cell_type": "code",
   "execution_count": 12,
   "metadata": {},
   "outputs": [
    {
     "name": "stdout",
     "output_type": "stream",
     "text": [
      "_________________________________________________________________\n",
      "Layer (type)                 Output Shape              Param #   \n",
      "=================================================================\n",
      "dense_1 (Dense)              (None, 512)               401920    \n",
      "_________________________________________________________________\n",
      "dense_2 (Dense)              (None, 512)               262656    \n",
      "_________________________________________________________________\n",
      "dense_3 (Dense)              (None, 10)                5130      \n",
      "=================================================================\n",
      "Total params: 669,706\n",
      "Trainable params: 669,706\n",
      "Non-trainable params: 0\n",
      "_________________________________________________________________\n"
     ]
    }
   ],
   "source": [
    "model.summary()\n",
    "# Here we saved the raw model without any training. we will use it later.\n",
    "model.save('raw_model.h5')"
   ]
  },
  {
   "cell_type": "markdown",
   "metadata": {},
   "source": [
    "## 3. Train And Evaluate Model. "
   ]
  },
  {
   "cell_type": "markdown",
   "metadata": {},
   "source": [
    "** 3-0. Train model on training data using model.fit for 3 epoch**"
   ]
  },
  {
   "cell_type": "code",
   "execution_count": 13,
   "metadata": {},
   "outputs": [
    {
     "name": "stdout",
     "output_type": "stream",
     "text": [
      "3\n"
     ]
    },
    {
     "data": {
      "image/png": "[encoded data removed]",
      "text/plain": [
       "<matplotlib.figure.Figure at 0x1cdbf3ca630>"
      ]
     },
     "metadata": {},
     "output_type": "display_data"
    }
   ],
   "source": [
    "rand_num = np.random.randint(p_x_train.shape[0])\n",
    "plt.imshow(p_x_train.reshape((-1,28,28))[rand_num])\n",
    "print(np.argmax(p_y_train[rand_num]))"
   ]
  },
  {
   "cell_type": "code",
   "execution_count": 14,
   "metadata": {},
   "outputs": [
    {
     "data": {
      "text/plain": [
       "0.0"
      ]
     },
     "execution_count": 14,
     "metadata": {},
     "output_type": "execute_result"
    }
   ],
   "source": [
    "np.min(p_y_train)"
   ]
  },
  {
   "cell_type": "code",
   "execution_count": 15,
   "metadata": {},
   "outputs": [
    {
     "data": {
      "text/plain": [
       "(60000, 10)"
      ]
     },
     "execution_count": 15,
     "metadata": {},
     "output_type": "execute_result"
    }
   ],
   "source": [
    "p_y_train.shape"
   ]
  },
  {
   "cell_type": "code",
   "execution_count": 16,
   "metadata": {},
   "outputs": [
    {
     "name": "stdout",
     "output_type": "stream",
     "text": [
      "Train on 48000 samples, validate on 12000 samples\n",
      "Epoch 1/3\n",
      "48000/48000 [==============================] - 6s 128us/step - loss: 0.4127 - acc: 0.8775 - val_loss: 0.2544 - val_acc: 0.9243\n",
      "Epoch 2/3\n",
      "48000/48000 [==============================] - 6s 132us/step - loss: 0.2137 - acc: 0.9374 - val_loss: 0.1918 - val_acc: 0.9452\n",
      "Epoch 3/3\n",
      "48000/48000 [==============================] - 6s 124us/step - loss: 0.1646 - acc: 0.9522 - val_loss: 0.1715 - val_acc: 0.9494\n"
     ]
    },
    {
     "data": {
      "text/plain": [
       "<keras.callbacks.History at 0x1cdbf42d5c0>"
      ]
     },
     "execution_count": 16,
     "metadata": {},
     "output_type": "execute_result"
    }
   ],
   "source": [
    "# Use model.fit to train the model. Following hyperparameters are suggested (but you may change them if you want):\n",
    "# batch_size = 32\n",
    "# epochs = 3\n",
    "# Validation data percentage: 20%\n",
    "# use verbose for logging the training\n",
    "model.fit(x=p_x_train,y=p_y_train,batch_size=32,epochs=3,validation_split=.2,verbose=1)"
   ]
  },
  {
   "cell_type": "markdown",
   "metadata": {},
   "source": [
    "** 3-1. Evaluate model on test data using model.evaluate. Print the model accuracy on test set. **"
   ]
  },
  {
   "cell_type": "code",
   "execution_count": 17,
   "metadata": {},
   "outputs": [
    {
     "name": "stdout",
     "output_type": "stream",
     "text": [
      "10000/10000 [==============================] - 0s 42us/step\n"
     ]
    },
    {
     "data": {
      "text/plain": [
       "[0.7695954777777398, 0.9512]"
      ]
     },
     "execution_count": 17,
     "metadata": {},
     "output_type": "execute_result"
    }
   ],
   "source": [
    "model.evaluate(p_x_test,p_y_test)"
   ]
  },
  {
   "cell_type": "markdown",
   "metadata": {},
   "source": [
    "** 3-2. Save model **\n",
    "\n",
    "In Keras, you can save the model to a HDF5 file(.h5) and reload it later simply by model.save(filepath) and keras.models.load_model(filepath), respectively.\n",
    "\n",
    "The saved model contains:\n",
    "* the architecture of the model, allowing to re-create the model\n",
    "* the weights of the model\n",
    "* the training configuration (loss, optimizer)\n",
    "* the state of the optimizer, allowing to resume training exactly where you left off.\n"
   ]
  },
  {
   "cell_type": "code",
   "execution_count": 18,
   "metadata": {},
   "outputs": [],
   "source": [
    "# save model here:\n",
    "model.save('mlp.h5')\n",
    "# Delete model to make sure you reload it correctly:\n",
    "del model"
   ]
  },
  {
   "cell_type": "code",
   "execution_count": 19,
   "metadata": {},
   "outputs": [
    {
     "data": {
      "text/plain": [
       "(784,)"
      ]
     },
     "execution_count": 19,
     "metadata": {},
     "output_type": "execute_result"
    }
   ],
   "source": [
    "p_x_train[np.random.randint(p_x_train.shape[0])].shape"
   ]
  },
  {
   "cell_type": "markdown",
   "metadata": {},
   "source": [
    "** 3-3. Load model and Predict label for a random image in train set. Verify predicted label by ploting the image. **"
   ]
  },
  {
   "cell_type": "code",
   "execution_count": 20,
   "metadata": {
    "scrolled": true
   },
   "outputs": [
    {
     "data": {
      "image/png": "[encoded data removed]",
      "text/plain": [
       "<matplotlib.figure.Figure at 0x1cd9490e438>"
      ]
     },
     "metadata": {},
     "output_type": "display_data"
    },
    {
     "name": "stdout",
     "output_type": "stream",
     "text": [
      "0\n"
     ]
    }
   ],
   "source": [
    "# reload the model here:\n",
    "model = load_model('mlp.h5')\n",
    "# generate a random number. (use numpy random.randint) and use model.predict to predict its label. \n",
    "rand_num = np.random.randint(p_x_train.shape[0])\n",
    "predicted = model.predict(p_x_train[rand_num].reshape((1,-1)))\n",
    "# print its label\n",
    "plt.imshow(x_train[rand_num],cmap='gray')\n",
    "plt.show()\n",
    "print(np.argmax(predicted))"
   ]
  },
  {
   "cell_type": "markdown",
   "metadata": {},
   "source": [
    "** 3-4. Continue training + Callbacks **\n",
    "\n",
    "Please Examine how these callbacks work. you may add other callbacks to this list."
   ]
  },
  {
   "cell_type": "code",
   "execution_count": 21,
   "metadata": {},
   "outputs": [
    {
     "name": "stdout",
     "output_type": "stream",
     "text": [
      "Train on 48000 samples, validate on 12000 samples\n",
      "Epoch 1/100\n",
      "48000/48000 [==============================] - 6s 123us/step - loss: 0.1357 - acc: 0.9612 - val_loss: 0.1493 - val_acc: 0.9567\n",
      "Epoch 2/100\n",
      "48000/48000 [==============================] - 6s 122us/step - loss: 0.1158 - acc: 0.9664 - val_loss: 0.1394 - val_acc: 0.9587\n",
      "Epoch 3/100\n",
      "48000/48000 [==============================] - 6s 122us/step - loss: 0.0997 - acc: 0.9713 - val_loss: 0.1310 - val_acc: 0.9623\n",
      "Epoch 00003: early stopping\n"
     ]
    },
    {
     "data": {
      "image/png": "[encoded data removed]",
      "text/plain": [
       "<matplotlib.figure.Figure at 0x1cdcbc05710>"
      ]
     },
     "metadata": {},
     "output_type": "display_data"
    },
    {
     "data": {
      "image/png": "[encoded data removed]",
      "text/plain": [
       "<matplotlib.figure.Figure at 0x1cdf3e94c18>"
      ]
     },
     "metadata": {},
     "output_type": "display_data"
    }
   ],
   "source": [
    "# We will use two callbacks here: EarlyStopping, CSVLogger (you may add other callbacks to this list)\n",
    "callback = [keras.callbacks.EarlyStopping(monitor='val_acc', verbose=1, min_delta=0.01, patience = 2, mode = 'max'),\n",
    "            keras.callbacks.CSVLogger('log.csv')]\n",
    "history = model.fit(p_x_train, p_y_train,\n",
    "                    batch_size = 32,\n",
    "                    epochs = 100,\n",
    "                    verbose = 1,\n",
    "                    validation_split = 0.2,\n",
    "                    callbacks = callback)\n",
    "\n",
    "plt.figure(figsize=(5,3))\n",
    "plt.plot(history.epoch,history.history['loss'])\n",
    "plt.title('loss')\n",
    "\n",
    "plt.figure(figsize=(5,3))\n",
    "plt.plot(history.epoch,history.history['acc'])\n",
    "plt.title('accuracy');"
   ]
  },
  {
   "cell_type": "markdown",
   "metadata": {},
   "source": [
    "## 4. Extras"
   ]
  },
  {
   "cell_type": "markdown",
   "metadata": {
    "collapsed": true
   },
   "source": [
    "** 4-0. Initialization is important! **\n",
    "\n",
    "Redefine Network, this time use mean=0 and std=1 for initialization.\n",
    "\n",
    "Then Try to fit the model.\n",
    "\n",
    "Repeat this with other initialization methods and parameters."
   ]
  },
  {
   "cell_type": "code",
   "execution_count": 22,
   "metadata": {},
   "outputs": [
    {
     "name": "stdout",
     "output_type": "stream",
     "text": [
      "Train on 48000 samples, validate on 12000 samples\n",
      "Epoch 1/3\n",
      "48000/48000 [==============================] - 6s 133us/step - loss: 0.4156 - acc: 0.8754 - val_loss: 0.2357 - val_acc: 0.9315\n",
      "Epoch 2/3\n",
      "48000/48000 [==============================] - 6s 128us/step - loss: 0.2140 - acc: 0.9385 - val_loss: 0.1879 - val_acc: 0.9457\n",
      "Epoch 3/3\n",
      "48000/48000 [==============================] - 6s 127us/step - loss: 0.1664 - acc: 0.9520 - val_loss: 0.1614 - val_acc: 0.9533\n"
     ]
    },
    {
     "data": {
      "text/plain": [
       "<keras.callbacks.History at 0x1cdf3ca4208>"
      ]
     },
     "execution_count": 22,
     "metadata": {},
     "output_type": "execute_result"
    }
   ],
   "source": [
    "model = Sequential()\n",
    "model.add(Dense(512,activation='relu',input_shape=(input_shape,),kernel_initializer=RandomNormal(mean=0.0, stddev=.1)))\n",
    "model.add(Dense(512,activation='relu',kernel_initializer=RandomNormal(mean=0.0, stddev=.1)))\n",
    "model.add(Dense(output_shape, activation='softmax',kernel_initializer=RandomNormal(mean=0.0, stddev=.1)))\n",
    "model.compile(optimizer=sgd,loss='categorical_crossentropy',metrics=['accuracy'])\n",
    "model.fit(x=p_x_train,y=p_y_train,batch_size=32,epochs=3,validation_split=.2,verbose=1)"
   ]
  },
  {
   "cell_type": "markdown",
   "metadata": {},
   "source": [
    "** 4-1. Overfitting/Underfitting **\n",
    "\n",
    "Load the 'raw_model.h5' and this time use 1 percent of training data for training, and all test data for validation.\n"
   ]
  },
  {
   "cell_type": "code",
   "execution_count": 25,
   "metadata": {},
   "outputs": [
    {
     "name": "stdout",
     "output_type": "stream",
     "text": [
      "600\n",
      "Train on 600 samples, validate on 10000 samples\n",
      "Epoch 1/3\n",
      "600/600 [==============================] - 1s 1ms/step - loss: 2.3407 - acc: 0.2900 - val_loss: 8.5342 - val_acc: 0.4638\n",
      "Epoch 2/3\n",
      "600/600 [==============================] - 0s 703us/step - loss: 1.1128 - acc: 0.6600 - val_loss: 5.9604 - val_acc: 0.6229\n",
      "Epoch 3/3\n",
      "600/600 [==============================] - 0s 721us/step - loss: 0.7775 - acc: 0.7633 - val_loss: 4.9367 - val_acc: 0.6881\n"
     ]
    },
    {
     "data": {
      "text/plain": [
       "<keras.callbacks.History at 0x1cdcbba9898>"
      ]
     },
     "execution_count": 25,
     "metadata": {},
     "output_type": "execute_result"
    }
   ],
   "source": [
    "del model\n",
    "# Load model here and fit it with less data\n",
    "model = load_model('raw_model.h5')\n",
    "percentage = int(p_x_train.shape[0] * .01)\n",
    "print(percentage)\n",
    "model.fit(x=p_x_train[:percentage ,],y=p_y_train[:percentage],batch_size=32,epochs=3,validation_data=(p_x_test,p_y_test),verbose=1)"
   ]
  },
  {
   "cell_type": "markdown",
   "metadata": {},
   "source": [
    "Now create another fully-connected model with 1 hidden layer(5 Neurons). Use all training data for training this model. (10 Training epoch)\n",
    "\n",
    "Observe the result."
   ]
  },
  {
   "cell_type": "code",
   "execution_count": 26,
   "metadata": {},
   "outputs": [],
   "source": [
    "model = Sequential()\n",
    "model.add(Dense(5,activation='relu',input_shape=(input_shape,),kernel_initializer=RandomNormal(mean=0.0, stddev=.01)))\n",
    "model.add(Dense(output_shape, activation='softmax',kernel_initializer=RandomNormal(mean=0.0, stddev=.1)))\n",
    "model.compile(optimizer=sgd,loss='categorical_crossentropy',metrics=['accuracy'])"
   ]
  },
  {
   "cell_type": "code",
   "execution_count": 29,
   "metadata": {},
   "outputs": [
    {
     "name": "stdout",
     "output_type": "stream",
     "text": [
      "Train on 60000 samples, validate on 10000 samples\n",
      "Epoch 1/10\n",
      "60000/60000 [==============================] - 6s 102us/step - loss: 1.4171 - acc: 0.5201 - val_loss: 3.3416 - val_acc: 0.7851\n",
      "Epoch 2/10\n",
      "60000/60000 [==============================] - 5s 87us/step - loss: 0.6246 - acc: 0.8108 - val_loss: 2.6006 - val_acc: 0.8355\n",
      "Epoch 3/10\n",
      "60000/60000 [==============================] - 5s 91us/step - loss: 0.5151 - acc: 0.8502 - val_loss: 2.3457 - val_acc: 0.8514\n",
      "Epoch 4/10\n",
      "60000/60000 [==============================] - 5s 91us/step - loss: 0.4687 - acc: 0.8662 - val_loss: 1.9995 - val_acc: 0.8735\n",
      "Epoch 5/10\n",
      "60000/60000 [==============================] - 6s 94us/step - loss: 0.4431 - acc: 0.8748 - val_loss: 1.9781 - val_acc: 0.8751\n",
      "Epoch 6/10\n",
      "60000/60000 [==============================] - 5s 90us/step - loss: 0.4263 - acc: 0.8800 - val_loss: 1.9840 - val_acc: 0.8749\n",
      "Epoch 7/10\n",
      "60000/60000 [==============================] - 6s 92us/step - loss: 0.4143 - acc: 0.8831 - val_loss: 2.0214 - val_acc: 0.8724\n",
      "Epoch 8/10\n",
      "60000/60000 [==============================] - 6s 93us/step - loss: 0.4054 - acc: 0.8846 - val_loss: 1.9702 - val_acc: 0.8758\n",
      "Epoch 9/10\n",
      "60000/60000 [==============================] - 6s 92us/step - loss: 0.3984 - acc: 0.8863 - val_loss: 2.0543 - val_acc: 0.8702\n",
      "Epoch 10/10\n",
      "60000/60000 [==============================] - 6s 93us/step - loss: 0.3926 - acc: 0.8888 - val_loss: 2.0784 - val_acc: 0.8688\n"
     ]
    },
    {
     "data": {
      "text/plain": [
       "<keras.callbacks.History at 0x1ceaa666240>"
      ]
     },
     "execution_count": 29,
     "metadata": {},
     "output_type": "execute_result"
    }
   ],
   "source": [
    "model.fit(x=p_x_train,y=p_y_train,batch_size=32,epochs=10,validation_data=(p_x_test,p_y_test),verbose=1)"
   ]
  }
 ],
 "metadata": {
  "kernelspec": {
   "display_name": "Python 3",
   "language": "python",
   "name": "python3"
  },
  "language_info": {
   "codemirror_mode": {
    "name": "ipython",
    "version": 3
   },
   "file_extension": ".py",
   "mimetype": "text/x-python",
   "name": "python",
   "nbconvert_exporter": "python",
   "pygments_lexer": "ipython3",
   "version": "3.6.4"
  }
 },
 "nbformat": 4,
 "nbformat_minor": 2
}
