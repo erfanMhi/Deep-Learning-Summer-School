{
 "cells": [
  {
   "cell_type": "markdown",
   "metadata": {},
   "source": [
    "## Sequential MNIST with RNNs\n",
    "In This section we are going to classify MNIST dataset sequentially using RNNs.\n",
    "IMAGE\n",
    "\n",
    "** 0. In the first cell, all required packages and functions/classes are imported.**\n",
    "\n",
    "Please run this cell."
   ]
  },
  {
   "cell_type": "code",
   "execution_count": 1,
   "metadata": {},
   "outputs": [],
   "source": [
    "# changing to cpu(optional)\n",
    "import os\n",
    "os.environ[\"CUDA_VISIBLE_DEVICES\"] = '-1' "
   ]
  },
  {
   "cell_type": "code",
   "execution_count": 1,
   "metadata": {},
   "outputs": [
    {
     "name": "stderr",
     "output_type": "stream",
     "text": [
      "C:\\Program Files (x86)\\Microsoft Visual Studio\\Shared\\Anaconda3_64\\envs\\deeplearning\\lib\\site-packages\\h5py\\__init__.py:34: FutureWarning: Conversion of the second argument of issubdtype from `float` to `np.floating` is deprecated. In future, it will be treated as `np.float64 == np.dtype(float).type`.\n",
      "  from ._conv import register_converters as _register_converters\n",
      "Using TensorFlow backend.\n"
     ]
    }
   ],
   "source": [
    "# import what you need\n",
    "import keras\n",
    "import matplotlib.pyplot as plt #This package is for plotting\n",
    "%matplotlib inline  \n",
    "import numpy as np\n",
    "from keras.datasets import mnist\n",
    "from keras.models import Sequential\n",
    "from keras.layers import Dense, Input, SimpleRNN, LSTM, GRU\n",
    "from keras.optimizers import SGD\n",
    "from keras.initializers import RandomNormal\n",
    "from keras.models import load_model\n",
    "from keras import backend as K"
   ]
  },
  {
   "cell_type": "markdown",
   "metadata": {},
   "source": [
    "\n",
    "** 1. Preparing data: **\n",
    "\n",
    "IMPORTANT NOTE: You may use the same code as Hands-on1 for loading and preparing data; however, you should not flatten input data.\n",
    "\n",
    "In this cell, following steps should be taken: \n",
    "* Load Train and Test data (use mnist.load_data())\n",
    "* normalize data by deviding by its max (use numpy max function)\n",
    "* change representation of label data to one-hot (use keras.utils.to_categorical)\n",
    "* print the shape of all data arrays."
   ]
  },
  {
   "cell_type": "code",
   "execution_count": 2,
   "metadata": {},
   "outputs": [],
   "source": [
    "import tensorflow as tf\n",
    "gpu_options = tf.GPUOptions(per_process_gpu_memory_fraction=0.3)\n",
    "sess = tf.Session(config=tf.ConfigProto(gpu_options=gpu_options))\n",
    "K.set_session(sess)"
   ]
  },
  {
   "cell_type": "code",
   "execution_count": 3,
   "metadata": {},
   "outputs": [],
   "source": [
    "batch_size = 128    # Here we define the batch size value\n",
    "num_classes = 10    # Assign the number of class exists in MNIST dataset\n",
    "epochs = 12       # Total Number of iteratin on mnist dataset \n",
    "img_rows, img_cols = 28, 28        # input image dimensions"
   ]
  },
  {
   "cell_type": "code",
   "execution_count": 4,
   "metadata": {},
   "outputs": [
    {
     "name": "stdout",
     "output_type": "stream",
     "text": [
      "x_train shape: (60000, 14, 56)\n",
      "60000 train samples\n",
      "10000 test samples\n",
      "(60000, 14, 56) (60000, 10) (10000, 14, 56) (10000, 10)\n"
     ]
    }
   ],
   "source": [
    "(x_train, y_train), (x_test, y_test) = mnist.load_data()\n",
    "x_train = x_train.reshape((-1,14,56)).astype(np.float16)     # This is the way we change the variable type\n",
    "x_test = x_test.reshape((-1,14,56)).astype(np.float16) \n",
    "x_train /= 255                           # Here we normalize the data between 0 and 1\n",
    "x_test /= 255                            # Here we normalize the data between 0 and 1\n",
    "print('x_train shape:', x_train.shape)\n",
    "print(x_train.shape[0], 'train samples')\n",
    "print(x_test.shape[0], 'test samples')\n",
    "# convert class vectors to binary class matrices\n",
    "y_train = keras.utils.to_categorical(y_train, num_classes)\n",
    "y_test = keras.utils.to_categorical(y_test, num_classes)\n",
    "print(x_train.shape,y_train.shape,x_test.shape,y_test.shape)    # above command assign 1 to 5th element of a vector and others have value 0."
   ]
  },
  {
   "cell_type": "markdown",
   "metadata": {},
   "source": [
    "** 2. Define Model **\n",
    "In this cell we are going to define the model.Take following steps in order:\n",
    "* (2.1) Determine number of hidden units(nb_units) for the RNN cell, sequence length, and feature size. (Note: You start using 50 hidden neurons, and then increase/decrease it to find the optimum number. The sequence length should be equal to image height and the feature size should be equal to image width.\n",
    "* (2.2) We are going to create a Sequential model. (As in Hands-On 1)\n",
    "* (2.3) Add a SimpleRNN layer to the model. (giving nb_units as the argument and input shape to the cell is enough for this task).\n",
    "* (2.4) We should map the output of RNN cell (with size of nb_units) to our 10 class using a Dense layer. \n",
    "* (2.5) Use categorical_crossentropy as your loss and adam as your optimizer. You may add your desired metrics (accuracy is suggested). Compile the model using model.compile.\n",
    "* (2.6) Print out model structure using model.summary(). You can check all the trainable parameters of your model.\n"
   ]
  },
  {
   "cell_type": "code",
   "execution_count": 5,
   "metadata": {},
   "outputs": [
    {
     "name": "stdout",
     "output_type": "stream",
     "text": [
      "_________________________________________________________________\n",
      "Layer (type)                 Output Shape              Param #   \n",
      "=================================================================\n",
      "simple_rnn_1 (SimpleRNN)     (None, 50)                5350      \n",
      "_________________________________________________________________\n",
      "dense_1 (Dense)              (None, 10)                510       \n",
      "=================================================================\n",
      "Total params: 5,860\n",
      "Trainable params: 5,860\n",
      "Non-trainable params: 0\n",
      "_________________________________________________________________\n"
     ]
    }
   ],
   "source": [
    "# 2.1 Determine the following variables:\n",
    "nb_units = 50\n",
    "seq_length = 14\n",
    "feature_size = 56\n",
    "# 2.2 Define a Sequential model. \n",
    "model = Sequential()\n",
    "# 2.3 Add a SimpleRNN layer (search the documenation for its parameters)\n",
    "model.add(SimpleRNN(units=nb_units,input_shape=(seq_length,feature_size)))\n",
    "# 2.4 Add a Dense layer+ Softmax activation (search the documenation for its parameters)\n",
    "model.add(Dense(10,activation='softmax'))\n",
    "# 2.5 Compile the model.\n",
    "model.compile(loss='categorical_crossentropy',optimizer='adam',metrics=['accuracy'])\n",
    "# 2.6 Print out model.summary\n",
    "model.summary()"
   ]
  },
  {
   "cell_type": "markdown",
   "metadata": {},
   "source": [
    "** 3. Training **\n",
    "Simply Train the model using model.fit (check its parameter in keras documentation)."
   ]
  },
  {
   "cell_type": "code",
   "execution_count": 6,
   "metadata": {},
   "outputs": [
    {
     "data": {
      "text/plain": [
       "(60000, 14, 56)"
      ]
     },
     "execution_count": 6,
     "metadata": {},
     "output_type": "execute_result"
    }
   ],
   "source": [
    "x_train.shape"
   ]
  },
  {
   "cell_type": "code",
   "execution_count": 7,
   "metadata": {},
   "outputs": [
    {
     "data": {
      "text/plain": [
       "(60000, 10)"
      ]
     },
     "execution_count": 7,
     "metadata": {},
     "output_type": "execute_result"
    }
   ],
   "source": [
    "y_train.shape"
   ]
  },
  {
   "cell_type": "code",
   "execution_count": 9,
   "metadata": {},
   "outputs": [
    {
     "name": "stdout",
     "output_type": "stream",
     "text": [
      "Epoch 1/10\n",
      "60000/60000 [==============================] - 21s 357us/step - loss: 0.2395 - acc: 0.9273\n",
      "Epoch 2/10\n",
      "60000/60000 [==============================] - 21s 352us/step - loss: 0.1959 - acc: 0.9414\n",
      "Epoch 3/10\n",
      "60000/60000 [==============================] - 22s 359us/step - loss: 0.1695 - acc: 0.9491\n",
      "Epoch 4/10\n",
      "60000/60000 [==============================] - 21s 358us/step - loss: 0.1485 - acc: 0.9553\n",
      "Epoch 5/10\n",
      "60000/60000 [==============================] - 21s 358us/step - loss: 0.1324 - acc: 0.9603\n",
      "Epoch 6/10\n",
      "60000/60000 [==============================] - 22s 361us/step - loss: 0.1218 - acc: 0.9640\n",
      "Epoch 7/10\n",
      "60000/60000 [==============================] - 21s 354us/step - loss: 0.1124 - acc: 0.9659\n",
      "Epoch 8/10\n",
      "60000/60000 [==============================] - 22s 366us/step - loss: 0.1046 - acc: 0.9682\n",
      "Epoch 9/10\n",
      "60000/60000 [==============================] - 22s 359us/step - loss: 0.1000 - acc: 0.9696\n",
      "Epoch 10/10\n",
      "60000/60000 [==============================] - 21s 358us/step - loss: 0.0958 - acc: 0.9708\n"
     ]
    }
   ],
   "source": [
    "# Complete following line, using  batch_size=128 is suggested.# with tf.device(\"/cpu:0\"):\n",
    "history = model.fit(x=x_train,y=y_train,batch_size=32,epochs=10,)"
   ]
  },
  {
   "cell_type": "code",
   "execution_count": 9,
   "metadata": {},
   "outputs": [
    {
     "data": {
      "image/png": "[encoded data removed]",
      "text/plain": [
       "<matplotlib.figure.Figure at 0x1bcb8fc5c50>"
      ]
     },
     "metadata": {},
     "output_type": "display_data"
    },
    {
     "data": {
      "image/png": "[encoded data removed]",
      "text/plain": [
       "<matplotlib.figure.Figure at 0x1bcb8f8c438>"
      ]
     },
     "metadata": {},
     "output_type": "display_data"
    }
   ],
   "source": [
    "plt.figure(figsize=(5,3))\n",
    "plt.plot(history.epoch,history.history['loss'])\n",
    "plt.title('loss')\n",
    "\n",
    "plt.figure(figsize=(5,3))\n",
    "plt.plot(history.epoch,history.history['acc'])\n",
    "plt.title('accuracy');"
   ]
  },
  {
   "cell_type": "markdown",
   "metadata": {},
   "source": [
    "** 4. Evaluate the model on Test data. **"
   ]
  },
  {
   "cell_type": "code",
   "execution_count": 10,
   "metadata": {},
   "outputs": [
    {
     "name": "stdout",
     "output_type": "stream",
     "text": [
      "10000/10000 [==============================] - 2s 205us/step\n",
      "acc: 96.84%\n"
     ]
    }
   ],
   "source": [
    "# complete following line\n",
    "scores = model.evaluate(x_test,y_test)\n",
    "\n",
    "print(\"%s: %.2f%%\" % (model.metrics_names[1], scores[1]*100))"
   ]
  },
  {
   "cell_type": "markdown",
   "metadata": {},
   "source": [
    "** 5. Use other Cells **\n",
    "\n",
    "In the definition of the model (Section 2), replace the SimpleRNN with LSTM (and GRU) and repeat the section 3 and 4. You may use same hyperparameter in this section(nb_units, batch_size, epochs, and ...)"
   ]
  },
  {
   "cell_type": "code",
   "execution_count": 11,
   "metadata": {},
   "outputs": [
    {
     "name": "stdout",
     "output_type": "stream",
     "text": [
      "Epoch 1/10\n",
      "60000/60000 [==============================] - 5s 76us/step - loss: 0.7757 - acc: 0.7547\n",
      "Epoch 2/10\n",
      "60000/60000 [==============================] - 4s 65us/step - loss: 0.2149 - acc: 0.9365\n",
      "Epoch 3/10\n",
      "60000/60000 [==============================] - 4s 64us/step - loss: 0.1441 - acc: 0.9567\n",
      "Epoch 4/10\n",
      "60000/60000 [==============================] - 4s 64us/step - loss: 0.1140 - acc: 0.9661\n",
      "Epoch 5/10\n",
      "60000/60000 [==============================] - 4s 65us/step - loss: 0.0982 - acc: 0.9698\n",
      "Epoch 6/10\n",
      "60000/60000 [==============================] - 4s 64us/step - loss: 0.0820 - acc: 0.9750\n",
      "Epoch 7/10\n",
      "60000/60000 [==============================] - 4s 64us/step - loss: 0.0748 - acc: 0.9773\n",
      "Epoch 8/10\n",
      "60000/60000 [==============================] - 4s 64us/step - loss: 0.0653 - acc: 0.9806\n",
      "Epoch 9/10\n",
      "60000/60000 [==============================] - 4s 64us/step - loss: 0.0585 - acc: 0.9819\n",
      "Epoch 10/10\n",
      "60000/60000 [==============================] - 4s 64us/step - loss: 0.0533 - acc: 0.9835\n"
     ]
    }
   ],
   "source": [
    "# Code Here\n",
    "# 2.1 Determine the following variables:\n",
    "nb_units = 50\n",
    "seq_length = 14\n",
    "feature_size = 56\n",
    "# 2.2 Define a Sequential model. \n",
    "model = Sequential()\n",
    "# 2.3 Add a SimpleRNN layer (search the documenation for its parameters)\n",
    "model.add(LSTM(nb_units,input_shape=(seq_length,feature_size)))\n",
    "# 2.4 Add a Dense layer+ Softmax activation (search the documenation for its parameters)\n",
    "model.add(Dense(10,activation='softmax'))\n",
    "# 2.5 Compile the model.\n",
    "model.compile(loss='categorical_crossentropy',optimizer='adam',metrics=['accuracy'])\n",
    "# 2.6 Print out model.summary\n",
    "epochs = 3\n",
    "# Complete following line, using  batch_size=128 is suggested.\n",
    "history = model.fit(x_train,y_train,batch_size=128,epochs=10)"
   ]
  },
  {
   "cell_type": "markdown",
   "metadata": {},
   "source": [
    "## GRU Layer"
   ]
  },
  {
   "cell_type": "code",
   "execution_count": 12,
   "metadata": {},
   "outputs": [
    {
     "name": "stdout",
     "output_type": "stream",
     "text": [
      "Epoch 1/10\n",
      "60000/60000 [==============================] - 4s 72us/step - loss: 0.8059 - acc: 0.7376\n",
      "Epoch 2/10\n",
      "60000/60000 [==============================] - 4s 63us/step - loss: 0.1726 - acc: 0.9494\n",
      "Epoch 3/10\n",
      "60000/60000 [==============================] - 4s 63us/step - loss: 0.1184 - acc: 0.9649\n",
      "Epoch 4/10\n",
      "60000/60000 [==============================] - 4s 64us/step - loss: 0.0939 - acc: 0.9721\n",
      "Epoch 5/10\n",
      "60000/60000 [==============================] - 4s 63us/step - loss: 0.0792 - acc: 0.9763\n",
      "Epoch 6/10\n",
      "60000/60000 [==============================] - 4s 65us/step - loss: 0.0694 - acc: 0.9792\n",
      "Epoch 7/10\n",
      "60000/60000 [==============================] - 4s 63us/step - loss: 0.0610 - acc: 0.9818\n",
      "Epoch 8/10\n",
      "60000/60000 [==============================] - 4s 63us/step - loss: 0.0544 - acc: 0.9836\n",
      "Epoch 9/10\n",
      "60000/60000 [==============================] - 4s 63us/step - loss: 0.0489 - acc: 0.9849\n",
      "Epoch 10/10\n",
      "60000/60000 [==============================] - 4s 63us/step - loss: 0.0444 - acc: 0.9861\n"
     ]
    }
   ],
   "source": [
    "nb_units = 50\n",
    "seq_length = 14\n",
    "feature_size = 56\n",
    "# 2.2 Define a Sequential model. \n",
    "model = Sequential()\n",
    "# 2.3 Add a SimpleRNN layer (search the documenation for its parameters)\n",
    "model.add(GRU(nb_units,input_shape=(seq_length,feature_size)))\n",
    "# 2.4 Add a Dense layer+ Softmax activation (search the documenation for its parameters)\n",
    "model.add(Dense(10,activation='softmax'))\n",
    "# 2.5 Compile the model.\n",
    "model.compile(loss='categorical_crossentropy',optimizer='adam',metrics=['accuracy'])\n",
    "# 2.6 Print out model.summary\n",
    "epochs = 3\n",
    "# Complete following line, using  batch_size=128 is suggested.\n",
    "history = model.fit(x_train,y_train,batch_size=128,epochs=10)"
   ]
  },
  {
   "cell_type": "markdown",
   "metadata": {},
   "source": [
    "** 6. Stacking LSTM Layers **\n",
    "\n",
    "In the above model, add another LSTM layer and change where necessary, then train and evaluate the model. You may use same hyperparameter in this section(nb_units, batch_size, epochs, and ...)"
   ]
  },
  {
   "cell_type": "code",
   "execution_count": 13,
   "metadata": {},
   "outputs": [
    {
     "name": "stdout",
     "output_type": "stream",
     "text": [
      "Epoch 1/10\n",
      "60000/60000 [==============================] - 8s 137us/step - loss: 0.6512 - acc: 0.7907\n",
      "Epoch 2/10\n",
      "60000/60000 [==============================] - 7s 120us/step - loss: 0.1794 - acc: 0.9455\n",
      "Epoch 3/10\n",
      "60000/60000 [==============================] - 7s 120us/step - loss: 0.1261 - acc: 0.9623\n",
      "Epoch 4/10\n",
      "60000/60000 [==============================] - 7s 121us/step - loss: 0.0981 - acc: 0.9701\n",
      "Epoch 5/10\n",
      "60000/60000 [==============================] - 7s 121us/step - loss: 0.0799 - acc: 0.9755\n",
      "Epoch 6/10\n",
      "60000/60000 [==============================] - 7s 123us/step - loss: 0.0668 - acc: 0.9794\n",
      "Epoch 7/10\n",
      "60000/60000 [==============================] - 7s 121us/step - loss: 0.0571 - acc: 0.9821\n",
      "Epoch 8/10\n",
      "60000/60000 [==============================] - 7s 121us/step - loss: 0.0516 - acc: 0.9843\n",
      "Epoch 9/10\n",
      "60000/60000 [==============================] - 7s 123us/step - loss: 0.0453 - acc: 0.9857\n",
      "Epoch 10/10\n",
      "60000/60000 [==============================] - 8s 125us/step - loss: 0.0382 - acc: 0.9881\n"
     ]
    }
   ],
   "source": [
    "# Code Here\n",
    "nb_units = 50\n",
    "seq_length = 14\n",
    "feature_size = 56\n",
    "# 2.2 Define a Sequential model. \n",
    "model = Sequential()\n",
    "# 2.3 Add a SimpleRNN layer (search the documenation for its parameters)\n",
    "model.add(LSTM(nb_units,input_shape=(seq_length,feature_size),return_sequences=True))\n",
    "model.add(LSTM(nb_units,input_shape=(seq_length,feature_size)))\n",
    "# 2.4 Add a Dense layer+ Softmax activation (search the documenation for its parameters)\n",
    "model.add(Dense(10,activation='softmax'))\n",
    "# 2.5 Compile the model.\n",
    "model.compile(loss='categorical_crossentropy',optimizer='adam',metrics=['accuracy'])\n",
    "# 2.6 Print out model.summary\n",
    "epochs = 3\n",
    "# Complete following line, using  batch_size=128 is suggested.\n",
    "history = model.fit(x_train,y_train,batch_size=128,epochs=10)"
   ]
  }
 ],
 "metadata": {
  "kernelspec": {
   "display_name": "Python 3",
   "language": "python",
   "name": "python3"
  },
  "language_info": {
   "codemirror_mode": {
    "name": "ipython",
    "version": 3
   },
   "file_extension": ".py",
   "mimetype": "text/x-python",
   "name": "python",
   "nbconvert_exporter": "python",
   "pygments_lexer": "ipython3",
   "version": "3.6.4"
  }
 },
 "nbformat": 4,
 "nbformat_minor": 2
}
